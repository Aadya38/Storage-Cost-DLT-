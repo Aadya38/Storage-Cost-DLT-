{
  "nbformat": 4,
  "nbformat_minor": 0,
  "metadata": {
    "colab": {
      "provenance": []
    },
    "kernelspec": {
      "name": "python3",
      "display_name": "Python 3"
    },
    "language_info": {
      "name": "python"
    }
  },
  "cells": [
    {
      "cell_type": "code",
      "execution_count": 4,
      "metadata": {
        "colab": {
          "base_uri": "https://localhost:8080/"
        },
        "id": "niiCzYgspZUb",
        "outputId": "11e33700-8ec5-46f5-faaa-617237f5aeec"
      },
      "outputs": [
        {
          "output_type": "stream",
          "name": "stdout",
          "text": [
            "Storage cost calculation complete. Results saved to storage_cost_output.csv\n"
          ]
        }
      ],
      "source": [
        "import pandas as pd\n",
        "\n",
        "# Load data\n",
        "file_path = 'test.csv'  # Replace with your actual CSV file path\n",
        "data = pd.read_csv(file_path)\n",
        "\n",
        "# Initialize storage cost tracking\n",
        "storage_cost = []\n",
        "current_cost = 0\n",
        "\n",
        "# Iterate over each row in the data\n",
        "for index, row in data.iterrows():\n",
        "    word = row['Word']\n",
        "    pos = row['POS']\n",
        "    head_id = row['Head']\n",
        "    dep_rel = row['DepRel']\n",
        "\n",
        "    # Condition to increment storage cost:\n",
        "    # If a noun/pronoun/other expected head appears without fulfillment.\n",
        "    # Adjust based on your linguistic dependencies if needed.\n",
        "    if dep_rel in {'pof', 'k7', 'r6'} and pos in {'NN', 'PRP'}:\n",
        "        current_cost += 1\n",
        "\n",
        "    # Condition to decrement storage cost:\n",
        "    # If the dependency is fulfilled by the main verb or auxiliary.\n",
        "    if dep_rel == 'main' and pos in {'VM', 'VAUX'}:\n",
        "        current_cost -= current_cost if current_cost > 0 else 0\n",
        "\n",
        "    # Append current cost to the storage cost list\n",
        "    storage_cost.append(current_cost)\n",
        "\n",
        "# Add the storage cost to the dataframe\n",
        "data['Storage_Cost'] = storage_cost\n",
        "\n",
        "# Save the updated data to a new CSV\n",
        "output_path = 'storage_cost_output.csv'  # Desired output file path\n",
        "data.to_csv(output_path, index=False)\n",
        "\n",
        "print(\"Storage cost calculation complete. Results saved to\", output_path)\n"
      ]
    },
    {
      "cell_type": "code",
      "source": [
        "import pandas as pd\n",
        "\n",
        "# Load data\n",
        "file_path = 'total_f.csv'  # Replace with your actual CSV file path\n",
        "data = pd.read_csv(file_path)\n",
        "\n",
        "\n",
        "\n",
        "# Initialize storage cost tracking\n",
        "storage_cost = []\n",
        "current_cost = 0\n",
        "\n",
        "# Iterate over each row in the data\n",
        "for index, row in data.iterrows():\n",
        "    word = row['word']\n",
        "    pos = row['pos']\n",
        "    head_id = row['dep']\n",
        "    dep_rel = row['rel']\n",
        "\n",
        "    # Condition to increment storage cost:\n",
        "    if dep_rel in {'nmod__adj', 'k1s', 'r6'} and pos in {'NN', 'PRP'}:\n",
        "        current_cost += 1\n",
        "\n",
        "    # Condition to decrement storage cost:\n",
        "    if dep_rel == 'main' and pos in {'VM', 'VAUX'}:\n",
        "        current_cost -= current_cost if current_cost > 0 else 0\n",
        "\n",
        "    # Append current cost to the storage cost list\n",
        "    storage_cost.append(current_cost)\n",
        "\n",
        "# Add the storage cost to the dataframe\n",
        "data['Computed_Storage_Cost'] = storage_cost\n",
        "\n",
        "# Save the updated data to a new Excel file\n",
        "output_path = 'computed_storage_cost_output.xlsx'\n",
        "data.to_excel(output_path, index=False)\n",
        "\n",
        "print(\"Storage cost calculation complete. Results saved to\", output_path)\n"
      ],
      "metadata": {
        "colab": {
          "base_uri": "https://localhost:8080/"
        },
        "id": "COjYp2pdpn8z",
        "outputId": "1387a081-9cf7-4250-88f5-7303d1063509"
      },
      "execution_count": 7,
      "outputs": [
        {
          "output_type": "stream",
          "name": "stdout",
          "text": [
            "Storage cost calculation complete. Results saved to computed_storage_cost_output.xlsx\n"
          ]
        }
      ]
    },
    {
      "cell_type": "code",
      "source": [
        "import pandas as pd\n",
        "\n",
        "# Load data from the Excel file\n",
        "file_path = 'computed_storage_cost_output.xlsx'  # Update with your actual file path\n",
        "data = pd.read_excel(file_path)\n",
        "\n",
        "# Initialize storage cost tracking\n",
        "recomputed_storage_cost = []\n",
        "current_cost = 0\n",
        "\n",
        "# Iterate over each row in the data to recalculate storage cost\n",
        "for index, row in data.iterrows():\n",
        "    pos = row['pos']\n",
        "    dep_rel = row['rel']\n",
        "\n",
        "    # Condition to increment storage cost\n",
        "    if dep_rel in {'nmod__adj', 'k1s', 'r6'} and pos in {'NN', 'PRP'}:\n",
        "        current_cost += 1\n",
        "\n",
        "    # Condition to decrement storage cost\n",
        "    if dep_rel == 'main' and pos in {'VM', 'VAUX'}:\n",
        "        current_cost = max(0, current_cost - current_cost)\n",
        "\n",
        "    # Append current cost to the recalculated storage cost list\n",
        "    recomputed_storage_cost.append(current_cost)\n",
        "\n",
        "# Add the recalculated storage cost to the dataframe\n",
        "data['Recomputed_Storage_Cost'] = recomputed_storage_cost\n",
        "\n",
        "# Check for discrepancies between original and recalculated values\n",
        "data['Storage_Cost_Discrepancy'] = data['Computed_Storage_Cost'] != data['Recomputed_Storage_Cost']\n",
        "\n",
        "# Output any rows where there are discrepancies\n",
        "discrepancies = data[data['Storage_Cost_Discrepancy']]\n",
        "print(\"Number of discrepancies:\", len(discrepancies))\n",
        "print(discrepancies[['Computed_Storage_Cost', 'Recomputed_Storage_Cost', 'Storage_Cost_Discrepancy']].head())\n",
        "\n",
        "# (Optional) Save the updated file with recalculated values\n",
        "output_path = 'recomputed_storage_cost_output.xlsx'\n",
        "data.to_excel(output_path, index=False)\n",
        "print(\"Updated data saved to\", output_path)\n"
      ],
      "metadata": {
        "colab": {
          "base_uri": "https://localhost:8080/"
        },
        "id": "Vqm9B1hCq54h",
        "outputId": "e1292172-465b-4b23-f8f8-51ce5d909fc4"
      },
      "execution_count": 8,
      "outputs": [
        {
          "output_type": "stream",
          "name": "stdout",
          "text": [
            "Number of discrepancies: 0\n",
            "Empty DataFrame\n",
            "Columns: [Computed_Storage_Cost, Recomputed_Storage_Cost, Storage_Cost_Discrepancy]\n",
            "Index: []\n",
            "Updated data saved to recomputed_storage_cost_output.xlsx\n"
          ]
        }
      ]
    },
    {
      "cell_type": "code",
      "source": [],
      "metadata": {
        "id": "Z447ME3zs1YM"
      },
      "execution_count": null,
      "outputs": []
    }
  ]
}